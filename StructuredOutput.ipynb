{
 "cells": [
  {
   "cell_type": "code",
   "execution_count": 27,
   "id": "5a6ecf5d",
   "metadata": {},
   "outputs": [
    {
     "data": {
      "text/plain": [
       "True"
      ]
     },
     "execution_count": 27,
     "metadata": {},
     "output_type": "execute_result"
    }
   ],
   "source": [
    "from langchain.agents.structured_output import ToolStrategy\n",
    "from langchain_community.tools import DuckDuckGoSearchResults\n",
    "from langchain_groq import ChatGroq\n",
    "from langchain_core.tools import Tool\n",
    "from langgraph.checkpoint.memory import MemorySaver\n",
    "from langchain.agents import create_agent\n",
    "from pydantic import BaseModel, Field\n",
    "from typing import List, Optional\n",
    "import os\n",
    "from dotenv import load_dotenv\n",
    "load_dotenv()"
   ]
  },
  {
   "cell_type": "code",
   "execution_count": 28,
   "id": "b2b13a27",
   "metadata": {},
   "outputs": [],
   "source": [
    "ddg_search = DuckDuckGoSearchResults()\n",
    "\n",
    "ddg_search_tool = Tool(\n",
    "    name=\"DuckDuckGoSearch\",\n",
    "    func=ddg_search.run,  # Uses the standard `.run()` interface\n",
    "    description=(\n",
    "        \"Use this tool to perform a DuckDuckGo web search and return JSON-formatted results. \"\n",
    "        \"Input: a search query string; Output: a JSON array of search results.\"\n",
    "    )\n",
    ")"
   ]
  },
  {
   "cell_type": "code",
   "execution_count": 6,
   "id": "1cf1a6f8",
   "metadata": {},
   "outputs": [],
   "source": [
    "os.environ[\"GROQ_API_KEY\"] = os.getenv(\"GROQ_API_KEY\")"
   ]
  },
  {
   "cell_type": "code",
   "execution_count": 31,
   "id": "60331665",
   "metadata": {},
   "outputs": [],
   "source": [
    "model_name = \"qwen/qwen3-32b\" #\"moonshotai/kimi-k2-instruct\" \"qwen/qwen3-32b\"\n",
    "temperature = 0.0\n",
    "\n",
    "\n",
    "model = ChatGroq(\n",
    "    model_name=model_name,\n",
    "    temperature=temperature\n",
    ")   \n"
   ]
  },
  {
   "cell_type": "code",
   "execution_count": 32,
   "id": "4864b8cd",
   "metadata": {},
   "outputs": [],
   "source": [
    "# Define your structured output schema\n",
    "class SearchResult(BaseModel):\n",
    "    \"\"\"Structured search result\"\"\"\n",
    "    title: str = Field(description=\"Title of the result\")\n",
    "    url: str = Field(description=\"URL of the result\")\n",
    "    snippet: str = Field(description=\"Brief snippet from the result\")\n",
    "\n",
    "class AgentResponse(BaseModel):\n",
    "    \"\"\"Structured agent response\"\"\"\n",
    "    answer: str = Field(description=\"The main answer to the query\")\n",
    "    sources: List[SearchResult] = Field(description=\"Sources used\", default_factory=list)\n",
    "    confidence: Optional[str] = Field(description=\"Confidence level\", default=None)\n"
   ]
  },
  {
   "cell_type": "code",
   "execution_count": 33,
   "id": "875d1852",
   "metadata": {},
   "outputs": [],
   "source": [
    "# Create the agent\n",
    "memory = MemorySaver()"
   ]
  },
  {
   "cell_type": "code",
   "execution_count": 34,
   "id": "11553924",
   "metadata": {},
   "outputs": [],
   "source": [
    "# Create agent with structured model\n",
    "agent = create_agent(model, \n",
    "                    tools=[ddg_search_tool], \n",
    "                    checkpointer=memory,\n",
    "                    response_format=ToolStrategy(AgentResponse),\n",
    "                    system_prompt=\"You are a helpful assistant. Be concise and accurate.\")"
   ]
  },
  {
   "cell_type": "code",
   "execution_count": 37,
   "id": "7bd026a4",
   "metadata": {},
   "outputs": [],
   "source": [
    "# Use the agent\n",
    "config = {\"configurable\": {\"thread_id\": \"xyz123\"}}\n",
    "\n",
    "input = {\"messages\": [{\"role\": \"user\", \"content\": \"What is the capital of France?\"}]}\n",
    "\n",
    "result = agent.invoke(input, config=config)\n"
   ]
  },
  {
   "cell_type": "code",
   "execution_count": 42,
   "id": "bd385cae",
   "metadata": {},
   "outputs": [
    {
     "name": "stdout",
     "output_type": "stream",
     "text": [
      "The capital of France is Paris.\n",
      "high\n",
      "[SearchResult(title='Paris - Wikipedia', url='https://en.wikipedia.org/wiki/Paris', snippet='Paris, then already the capital of France, was the most populous city of Europe.'), SearchResult(title='Current time in Paris, France', url='https://24timezones.com/Paris/time', snippet='Paris is the capital of France.'), SearchResult(title='Time in Paris, France now', url='https://time.is/Paris', snippet='Paris is the capital of France.')]\n"
     ]
    }
   ],
   "source": [
    "structured_response: AgentResponse = result[\"structured_response\"]\n",
    "\n",
    "# Access fields\n",
    "answer = structured_response.answer\n",
    "confidence = structured_response.confidence\n",
    "sources = structured_response.sources\n",
    "\n",
    "print(answer)\n",
    "print(confidence)\n",
    "print(sources)"
   ]
  },
  {
   "cell_type": "code",
   "execution_count": null,
   "id": "bf02f86d",
   "metadata": {},
   "outputs": [],
   "source": []
  }
 ],
 "metadata": {
  "kernelspec": {
   "display_name": "strmlit",
   "language": "python",
   "name": "python3"
  },
  "language_info": {
   "codemirror_mode": {
    "name": "ipython",
    "version": 3
   },
   "file_extension": ".py",
   "mimetype": "text/x-python",
   "name": "python",
   "nbconvert_exporter": "python",
   "pygments_lexer": "ipython3",
   "version": "3.12.3"
  }
 },
 "nbformat": 4,
 "nbformat_minor": 5
}
