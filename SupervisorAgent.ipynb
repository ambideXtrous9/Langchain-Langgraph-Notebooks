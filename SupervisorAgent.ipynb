{
 "cells": [
  {
   "cell_type": "code",
   "execution_count": 1,
   "id": "61ef303e",
   "metadata": {},
   "outputs": [
    {
     "name": "stderr",
     "output_type": "stream",
     "text": [
      "/home/vscode/.local/lib/python3.11/site-packages/tqdm/auto.py:21: TqdmWarning: IProgress not found. Please update jupyter and ipywidgets. See https://ipywidgets.readthedocs.io/en/stable/user_install.html\n",
      "  from .autonotebook import tqdm as notebook_tqdm\n"
     ]
    }
   ],
   "source": [
    "# langgraph_multiagent.py\n",
    "from langchain.agents import Tool\n",
    "from langgraph.graph import StateGraph, END\n",
    "from typing import TypedDict, Optional, Dict\n",
    "from langgraph.prebuilt import create_react_agent\n",
    "from langchain_community.tools import DuckDuckGoSearchResults\n",
    "from langchain_core.messages import AIMessage  # import AIMessage\n",
    "from langchain_community.vectorstores import FAISS\n",
    "from langchain.embeddings import HuggingFaceEmbeddings\n",
    "from transformers import AutoTokenizer, AutoModel\n",
    "from sentence_transformers import CrossEncoder\n",
    "from langchain_core.tools import tool\n",
    "import torch\n",
    "import time\n",
    "import streamlit as st \n",
    "from langchain_groq import ChatGroq\n",
    "from dotenv import load_dotenv\n",
    "import os\n",
    "import sys"
   ]
  },
  {
   "cell_type": "code",
   "execution_count": 2,
   "id": "62c985af",
   "metadata": {},
   "outputs": [],
   "source": [
    "load_dotenv()\n",
    "\n",
    "ddg_search = DuckDuckGoSearchResults()\n",
    "\n",
    "os.environ[\"GROQ_API_KEY\"] = os.getenv(\"GROQ_API_KEY\")\n"
   ]
  },
  {
   "cell_type": "code",
   "execution_count": 3,
   "id": "ae5ebbee",
   "metadata": {},
   "outputs": [
    {
     "name": "stderr",
     "output_type": "stream",
     "text": [
      "/home/vscode/.local/lib/python3.11/site-packages/pydantic/main.py:253: UserWarning: WARNING! seed is not default parameter.\n",
      "                    seed was transferred to model_kwargs.\n",
      "                    Please confirm that seed is what you intended.\n",
      "  validated_self = self.__pydantic_validator__.validate_python(data, self_instance=self)\n"
     ]
    }
   ],
   "source": [
    "model_name = \"moonshotai/kimi-k2-instruct\" #\"openai/gpt-oss-20b\"#\"qwen/qwen3-32b\" #\"moonshotai/kimi-k2-instruct\"\n",
    "temperature = 0.3\n",
    "\n",
    "llm = ChatGroq(\n",
    "    model_name=model_name,\n",
    "    temperature=temperature,\n",
    "    seed=42\n",
    ")   "
   ]
  },
  {
   "cell_type": "code",
   "execution_count": 4,
   "id": "c0c630b0",
   "metadata": {},
   "outputs": [
    {
     "name": "stderr",
     "output_type": "stream",
     "text": [
      "/tmp/ipykernel_6053/2030785957.py:10: LangChainDeprecationWarning: The class `HuggingFaceEmbeddings` was deprecated in LangChain 0.2.2 and will be removed in 1.0. An updated version of the class exists in the :class:`~langchain-huggingface package and should be used instead. To use it run `pip install -U :class:`~langchain-huggingface` and import as `from :class:`~langchain_huggingface import HuggingFaceEmbeddings``.\n",
      "  embeddings = HuggingFaceEmbeddings(\n"
     ]
    },
    {
     "name": "stdout",
     "output_type": "stream",
     "text": [
      "Using device: cpu\n"
     ]
    }
   ],
   "source": [
    "device = \"cuda\" if torch.cuda.is_available() else \"cpu\"\n",
    "print(f\"Using device: {device}\")\n",
    "\n",
    "\n",
    "# Initialize BAAI embeddings with GPU support\n",
    "embedmodel = \"sentence-transformers/all-MiniLM-L6-v2\" # You can also use bge-base for smaller but faster model\n",
    "model_kwargs = {'device': device} # , \"trust_remote_code\": True\n",
    "encode_kwargs = {'batch_size': 128, 'device': device, 'normalize_embeddings': True}\n",
    "\n",
    "embeddings = HuggingFaceEmbeddings(\n",
    "    model_name=embedmodel,\n",
    "    model_kwargs=model_kwargs,\n",
    "    encode_kwargs=encode_kwargs\n",
    ")\n",
    "\n",
    "# --- Cross-Encoder reranker model ---\n",
    "reranker_model_name = \"cross-encoder/ms-marco-TinyBERT-L-2-v2\"\n",
    "reranker = CrossEncoder(reranker_model_name, device=device)\n",
    "\n"
   ]
  },
  {
   "cell_type": "code",
   "execution_count": 5,
   "id": "dafc3874",
   "metadata": {},
   "outputs": [],
   "source": [
    "# --- Load FAISS vector DB ---\n",
    "vectordb_vectr = FAISS.load_local(\n",
    "    \"../HPVdb\", \n",
    "    embeddings, \n",
    "    allow_dangerous_deserialization=True\n",
    ")"
   ]
  },
  {
   "cell_type": "code",
   "execution_count": null,
   "id": "a8da10da",
   "metadata": {},
   "outputs": [],
   "source": [
    "from langgraph_supervisor import create_handoff_tool, create_forward_message_tool\n",
    "\n",
    "supervisor_handoff = create_handoff_tool(agent_name=\"Harry Potter Supervisor\")"
   ]
  },
  {
   "cell_type": "code",
   "execution_count": 6,
   "id": "a8a60131",
   "metadata": {},
   "outputs": [],
   "source": [
    "from pydantic import RootModel\n",
    "from typing import List\n",
    "from pydantic import BaseModel, Field\n",
    "\n",
    "class MythologyEntry(BaseModel):\n",
    "    name: str = Field(..., description=\"The mythology content name\")\n",
    "    link: str = Field(..., description=\"The writer/content link\")\n",
    "    reasoning: str = Field(..., description=\"Reasoning content\")\n",
    "    relation: str = Field(..., description=\"Relation with Harry Potter\")\n",
    "    gender: str = Field(..., description=\"Gender\")\n",
    "\n",
    "class MythologyResponse(RootModel[List[MythologyEntry]]):\n",
    "    pass\n",
    "\n",
    "\n",
    "from langgraph.prebuilt.chat_agent_executor import AgentStateWithStructuredResponse"
   ]
  },
  {
   "cell_type": "code",
   "execution_count": null,
   "id": "38489ab1",
   "metadata": {},
   "outputs": [],
   "source": [
    "from langgraph_supervisor import create_supervisor\n",
    "\n",
    "# Create supervisor workflow\n",
    "workflow = create_supervisor(\n",
    "    [web_agent, context_agent],\n",
    "    model=llm,\n",
    "    prompt = (\"\"\"\n",
    "        **You MUST use both \"Harry Potter Retriever Assistant\" and \"Harry Potter Web Search Assistant\" agents to answer the user's question.**\n",
    "    \"\"\"),\n",
    "    #response_format=MythologyResponse,\n",
    "    #state_schema=AgentStateWithStructuredResponse,  # required for structured_response\n",
    "    supervisor_name=\"Harry Potter Supervisor\",\n",
    "    add_handoff_back_messages=True,\n",
    "    add_handoff_messages=True,    \n",
    ")\n",
    "\n",
    "app = workflow.compile()"
   ]
  },
  {
   "cell_type": "code",
   "execution_count": 120,
   "id": "397ea437",
   "metadata": {},
   "outputs": [],
   "source": [
    "from typing import Dict,Annotated,List\n",
    "from langchain_core.messages import AnyMessage\n",
    "from langgraph.graph.message import add_messages\n",
    "from typing_extensions import TypedDict\n",
    "from langchain_core.messages import SystemMessage, HumanMessage\n",
    "\n",
    "\n",
    "class ArticleResponse(TypedDict):\n",
    "    topic: str\n",
    "    summary: str\n",
    "    knowledge: Annotated[list[AnyMessage], add_messages]\n",
    "    \n",
    "   "
   ]
  },
  {
   "cell_type": "code",
   "execution_count": 121,
   "id": "280e8213",
   "metadata": {},
   "outputs": [
    {
     "name": "stdout",
     "output_type": "stream",
     "text": [
      "Retrieving context...\n",
      "['‘I dunno,’ chuckled Hagrid. ‘Fred and George Weasley could give ’em a run fer their money’\\n\\n‘You’d have thought Black and Potter were brothers!’ chimed in Professor Flitwick. ‘Inseparable!’\\n\\n‘Of course they were,’ said Fudge. ‘Potter trusted Black beyond all his other friends. Nothing changed when they left school. Black was best man when James married Lily. Then they named him godfather to Harry. Harry has no idea, of course. You can imagine how the idea would torment him.’\\n\\n‘Because Black turned out to be in league with You-Know-Who?’ whispered Madam Rosmerta.', '“Potter, you’ve got yourself a girlfriend!” drawled Malfoy. Ginny went scarlet as Ron and Hermione fought their way over, both clutching stacks of Lockhart’s books.\\n\\n“Oh, it’s you,” said Ron, looking at Malfoy as if he were something unpleasant on the sole of his shoe. “Bet you’re surprised to see Harry here, eh?”\\n\\n“Not as surprised as I am to see you in a shop, Weasley,” retorted Malfoy. “I suppose your parents will go hungry for a month to pay for all those.”\\n\\nRon went as red as Ginny. He dropped his books into the cauldron, too, and started toward Malfoy, but Harry and Hermione grabbed the back of his jacket.\\n\\n“Ron!” said Mr. Weasley, struggling over with Fred and George. “What are you doing? It’s too crowded in here, let’s go outside.”\\n\\n“Well, well, well — Arthur Weasley.”\\n\\nIt was Mr. Malfoy. He stood with his hand on Draco’s shoulder, sneering in just the same way.\\n\\n“Lucius,” said Mr. Weasley, nodding coldly.']\n"
     ]
    }
   ],
   "source": [
    "@tool('RetrieveContext')\n",
    "def retrieve_context(query, n_docs=8):\n",
    "    \"\"\"Retrieve documents related to Harry Potter to answer the query\"\"\"\n",
    "\n",
    "    print(\"Retrieving context...\")\n",
    "    \n",
    "    # Step 1: Initial similarity search\n",
    "    retrieved_docs = vectordb_vectr.similarity_search(query, k=10)\n",
    "\n",
    "    # Step 2: Prepare (query, doc) pairs\n",
    "    pairs = [(query, doc.page_content) for doc in retrieved_docs]\n",
    "\n",
    "    # Step 3: Cross-encoder scoring\n",
    "    scores = reranker.predict(pairs)\n",
    "\n",
    "    # Step 4: Sort by scores\n",
    "    reranked = sorted(zip(scores, retrieved_docs), key=lambda x: x[0], reverse=True)\n",
    "    top_docs = [doc.page_content for _, doc in reranked[:n_docs]]\n",
    "\n",
    "    return top_docs\n",
    "\n",
    "print(retrieve_context.invoke({\"query\": \"Friends of Harry Potter\",\"n_docs\": 2}))"
   ]
  },
  {
   "cell_type": "code",
   "execution_count": 122,
   "id": "df04f5a2",
   "metadata": {},
   "outputs": [
    {
     "name": "stdout",
     "output_type": "stream",
     "text": [
      "Searching DuckDuckGo...\n",
      "['snippet: Fred and George Weasley are characters in the Harry Potter series of novels by J. K. Rowling. They are identical twin brothers of the Weasley family, which also includes Ron Weasley and Ginny Weasley., title: Fred and George Weasley - Wikipedia, link: https://en.m.wikipedia.org/wiki/Fred_and_George_Weasley, snippet: Learn all about the upcoming Harry Potter TV series.Her courage, loyalty and kindness earned her place in Harry ’s circle of most trusted friends ., title: Luna Lovegood | Official Harry Potter Encyclopedia, link: https://www.harrypotter.com/fact-file/characters-and-pets/luna-lovegood, snippet: Sirius Black was James Potter ’s closest friend , Harry Potter ’s godfather, and an Animagus, who was falsely accused of betrayal and murder and imprisoned in Azkaban., title: Sirius Black – Harry Potter Lexicon, link: https://www.hp-lexicon.org/character/black-family/sirius-black/, snippet: 1. Harry Potter and Ron Weasley: The bond between Harry and Ron is one of the most iconic friendships in the series. They share a deep connection, supporting each other through triumphs and tribulations. If you value loyalty, bravery, and a friend who will always stand by your side..., title: Who Is Your Harry Potter Best Friend – Repeat Replay, link: https://repeatreplay.com/who-is-your-harry-potter-best-friend/']\n"
     ]
    }
   ],
   "source": [
    "@tool(\"DuckDuckGoSearch\")\n",
    "def ddg_search_tool(query: str, num_results: int = 5):\n",
    "    \"\"\"Perform a DuckDuckGo web search and return results.\"\"\"\n",
    "\n",
    "    print(\"Searching DuckDuckGo...\")\n",
    "\n",
    "    # Call the existing DuckDuckGoSearchResults tool\n",
    "    results = ddg_search.run(query)\n",
    "\n",
    "    # If ddg_search.run returns a string, wrap it in a list\n",
    "    if isinstance(results, str):\n",
    "        return [results]\n",
    "\n",
    "    # If it’s already a list/dict, return top results\n",
    "    if isinstance(results, list):\n",
    "        return results[:num_results]\n",
    "\n",
    "    return results\n",
    "\n",
    "\n",
    "print(ddg_search_tool.invoke({\"query\": \"Friends of Harry Potter ?\", \"num_results\": 5}))"
   ]
  },
  {
   "cell_type": "code",
   "execution_count": 123,
   "id": "860713dc",
   "metadata": {},
   "outputs": [],
   "source": [
    "def webAgent(state):\n",
    "    print(\"Web Agent..\")\n",
    "    web_agent = create_react_agent(\n",
    "            model=llm,\n",
    "            tools=[ddg_search_tool],\n",
    "            prompt=(\n",
    "                \"\"\"\n",
    "                **Use both 'DuckDuckGoSearch' tool to answer the query.\\n**\n",
    "                You Must use the search results to answer the query. and provide source links.\n",
    "                \"\"\"\n",
    "            ),\n",
    "            name=\"Harry Potter Web Search Assistant\",\n",
    "        )\n",
    "\n",
    "    ai_content = \"\"\n",
    "    result = web_agent.invoke({\"messages\": [{\"role\": \"user\", \"content\": state['topic']}]})\n",
    "    output = result[\"messages\"][-1]\n",
    "    if isinstance(output, AIMessage):\n",
    "        ai_content = output.content\n",
    "\n",
    "    return {\"knowledge\": [f\"[Info from Web Search]\\n{ai_content}\\n\\n\"]}"
   ]
  },
  {
   "cell_type": "code",
   "execution_count": 124,
   "id": "eefb13df",
   "metadata": {},
   "outputs": [],
   "source": [
    "def contextAgent(state):\n",
    "    print(\"Context Agent..\")\n",
    "    context_agent = create_react_agent(\n",
    "        model=llm,\n",
    "        tools=[retrieve_context],\n",
    "        prompt=(\n",
    "            \"\"\"\n",
    "            **Use both 'RetrieveContext' tools to answer the query.\\n**\n",
    "            You Must use the context to answer the query.\n",
    "            \"\"\"\n",
    "        ),\n",
    "        name=\"Harry Potter Retriever Assistant\",\n",
    "    )\n",
    "\n",
    "    ai_content = \"\"\n",
    "    result = web_agent.invoke({\"messages\": [{\"role\": \"user\", \"content\": state['topic']}]})\n",
    "    output = result[\"messages\"][-1]\n",
    "    if isinstance(output, AIMessage):\n",
    "        ai_content = output.content\n",
    "\n",
    "    return {\"knowledge\": [f\"[Info from Database]\\n{ai_content}\\n\\n\"]}"
   ]
  },
  {
   "cell_type": "code",
   "execution_count": 125,
   "id": "29cfa469",
   "metadata": {},
   "outputs": [],
   "source": [
    "def summaryAgent(state):\n",
    "    context = f\"Summarize this topic : {state['topic']} based on below context: {state['knowledge']}\"\n",
    "\n",
    "    print(f\"\\n------------------\\n\")\n",
    "    for msg in state[\"knowledge\"]:\n",
    "        print(f\"\\n{msg.content}\\n\")\n",
    "        print(f\"\\n------------------\\n\")\n",
    "    print(\"\\n------------------\\n\")\n",
    "\n",
    "    response = llm.invoke([\n",
    "        SystemMessage(content=\"You are a summary assistant\"),\n",
    "        HumanMessage(content=context)\n",
    "    ])\n",
    "    return {\"summary\": response.content}"
   ]
  },
  {
   "cell_type": "code",
   "execution_count": 126,
   "id": "03554003",
   "metadata": {},
   "outputs": [],
   "source": [
    "from langgraph.graph import StateGraph, END, START\n",
    "from IPython.display import Image, Markdown, display"
   ]
  },
  {
   "cell_type": "code",
   "execution_count": 127,
   "id": "d77ae8ec",
   "metadata": {},
   "outputs": [
    {
     "data": {
      "text/plain": [
       "<langgraph.graph.state.StateGraph at 0x7e384c505c50>"
      ]
     },
     "execution_count": 127,
     "metadata": {},
     "output_type": "execute_result"
    }
   ],
   "source": [
    "graph = StateGraph(ArticleResponse)\n",
    "graph.add_node(\"webAgent\", webAgent)\n",
    "graph.add_node(\"contextAgent\", contextAgent)\n",
    "graph.add_node(\"summaryAgent\", summaryAgent)\n",
    "\n",
    "\n",
    "graph.add_edge(START, \"contextAgent\")\n",
    "graph.add_edge(START, \"webAgent\")\n",
    "graph.add_edge(\"contextAgent\", \"summaryAgent\")\n",
    "graph.add_edge(\"webAgent\", \"summaryAgent\")\n",
    "graph.add_edge(\"summaryAgent\", END)"
   ]
  },
  {
   "cell_type": "code",
   "execution_count": 128,
   "id": "4e8ba717",
   "metadata": {},
   "outputs": [
    {
     "data": {
      "image/png": "[encoded data removed]",
      "text/plain": [
       "<IPython.core.display.Image object>"
      ]
     },
     "execution_count": 128,
     "metadata": {},
     "output_type": "execute_result"
    }
   ],
   "source": [
    "workflow = graph.compile()\n",
    "\n",
    "Image(workflow.get_graph().draw_mermaid_png())"
   ]
  },
  {
   "cell_type": "code",
   "execution_count": 129,
   "id": "4d85cad3",
   "metadata": {},
   "outputs": [
    {
     "name": "stdout",
     "output_type": "stream",
     "text": [
      "Context Agent..\n",
      "Web Agent..\n"
     ]
    },
    {
     "name": "stdout",
     "output_type": "stream",
     "text": [
      "Searching DuckDuckGo...\n",
      "Searching DuckDuckGo...\n",
      "Searching DuckDuckGo...\n",
      "Searching DuckDuckGo...\n",
      "Searching DuckDuckGo...\n",
      "Searching DuckDuckGo...\n",
      "{'contextAgent': {'knowledge': [\"[Info from Database]\\nBased on my research, here are the **Top 10 Enemies of Harry Potter**:\\n\\n## **1. Lord Voldemort** \\nThe main antagonist and Harry's ultimate nemesis. He murdered Harry's parents and repeatedly tries to kill Harry throughout the series.\\n\\n## **2. Bellatrix Lestrange**\\nOne of Voldemort's most loyal Death Eaters, responsible for killing Sirius Black and torturing Neville's parents.\\n\\n## **3. Dolores Umbridge**\\nA Ministry of Magic official who becomes Defense Against Dark Arts teacher, known for her cruel punishment methods and authoritarian rule at Hogwarts.\\n\\n## **4. Draco Malfoy**\\nHarry's school rival who becomes a Death Eater, constantly bullying Harry and his friends throughout their years at Hogwarts.\\n\\n## **5. Lucius Malfoy**\\nDraco's father, a high-ranking Death Eater who uses his wealth and influence to support Voldemort's cause.\\n\\n## **6. Peter Pettigrew (Wormtail)**\\nThe traitor who betrayed Harry's parents to Voldemort, leading to their deaths.\\n\\n## **7. Severus Snape**\\nWhile ultimately revealed to be protecting Harry, he serves as a major antagonist for much of the series, making Harry's life miserable at Hogwarts.\\n\\n## **8. Barty Crouch Jr.**\\nA Death Eater who impersonates Mad-Eye Moody and tries to deliver Harry to Voldemort during the Triwizard Tournament.\\n\\n## **9. Fenrir Greyback**\\nA werewolf and Death Eater who attacks children to turn them into werewolves, including Remus Lupin.\\n\\n## **10. Quirinus Quirrell**\\nThe Defense Against Dark Arts teacher in Harry's first year who hosts Voldemort's spirit and tries to kill Harry.\\n\\n**Sources:**\\n- [Death Eater - Wikipedia](https://en.wikipedia.org/wiki/Death_Eater)\\n- [10 Best Harry Potter Villains - Merchmates](https://www.merchmates.co.uk/blog/fandom/best-harry-potter-villains/)\\n- [Top 10 Harry Potter Villains - i Top Ten List](https://itoptenlist.com/top-10-harry-potter-villains/)\\n\\n\"]}}\n",
      "{'webAgent': {'knowledge': [\"[Info from Web Search]\\nBased on my research, here are the **Top 10 Enemies of Harry Potter**:\\n\\n## **1. Lord Voldemort** \\nThe main antagonist and Harry's ultimate nemesis. As the Dark Lord who murdered Harry's parents and tried to kill him as a baby, Voldemort represents the ultimate evil in the series.\\n\\n## **2. Bellatrix Lestrange**\\nOne of Voldemort's most loyal Death Eaters, responsible for killing Sirius Black and torturing Neville's parents into insanity.\\n\\n## **3. Lucius Malfoy**\\nA high-ranking Death Eater and father to Draco, constantly scheming against Harry and his friends while maintaining a respectable pure-blood facade.\\n\\n## **4. Peter Pettigrew (Wormtail)**\\nThe traitor who betrayed Harry's parents to Voldemort, leading to their deaths. He was once James Potter's friend.\\n\\n## **5. Dolores Umbridge**\\nWhile not a Death Eater, she represents institutional evil as a Ministry official who tortured students and enforced oppressive policies at Hogwarts.\\n\\n## **6. Draco Malfoy**\\nHarry's school rival who constantly bullies him and later becomes a Death Eater, though his character becomes more complex as the series progresses.\\n\\n## **7. Professor Quirrell**\\nThe Defense Against the Dark Arts teacher in Harry's first year, who was secretly hosting Voldemort's spirit.\\n\\n## **8. Barty Crouch Jr.**\\nA Death Eater who impersonated Mad-Eye Moody and nearly delivered Harry to Voldemort in the Goblet of Fire.\\n\\n## **9. Fenrir Greyback**\\nA werewolf and Death Eater who attacked children to turn them into werewolves, including Remus Lupin.\\n\\n## **10. Severus Snape** (complicated)\\nWhile ultimately working to protect Harry, he spent years tormenting him as a teacher and was responsible for relaying the prophecy that led to his parents' deaths.\\n\\n**Sources:**\\n- [Merchmates: 10 Best Harry Potter Villains, Ranked](https://www.merchmates.co.uk/blog/fandom/best-harry-potter-villains/)\\n- [Moviefone: 10 Best Harry Potter Villains, Ranked](https://www.moviefone.com/news/10-best-harry-potter-villains-ranked/)\\n- [Sweet N' Sour Reviews: All 19 Harry Potter Villains, Ranked](https://www.sweetandsourreviews.com/post/all-19-harry-potter-villains-ranked)\\n\\n\"]}}\n",
      "\n",
      "------------------\n",
      "\n",
      "\n",
      "[Info from Database]\n",
      "Based on my research, here are the **Top 10 Enemies of Harry Potter**:\n",
      "\n",
      "## **1. Lord Voldemort** \n",
      "The main antagonist and Harry's ultimate nemesis. He murdered Harry's parents and repeatedly tries to kill Harry throughout the series.\n",
      "\n",
      "## **2. Bellatrix Lestrange**\n",
      "One of Voldemort's most loyal Death Eaters, responsible for killing Sirius Black and torturing Neville's parents.\n",
      "\n",
      "## **3. Dolores Umbridge**\n",
      "A Ministry of Magic official who becomes Defense Against Dark Arts teacher, known for her cruel punishment methods and authoritarian rule at Hogwarts.\n",
      "\n",
      "## **4. Draco Malfoy**\n",
      "Harry's school rival who becomes a Death Eater, constantly bullying Harry and his friends throughout their years at Hogwarts.\n",
      "\n",
      "## **5. Lucius Malfoy**\n",
      "Draco's father, a high-ranking Death Eater who uses his wealth and influence to support Voldemort's cause.\n",
      "\n",
      "## **6. Peter Pettigrew (Wormtail)**\n",
      "The traitor who betrayed Harry's parents to Voldemort, leading to their deaths.\n",
      "\n",
      "## **7. Severus Snape**\n",
      "While ultimately revealed to be protecting Harry, he serves as a major antagonist for much of the series, making Harry's life miserable at Hogwarts.\n",
      "\n",
      "## **8. Barty Crouch Jr.**\n",
      "A Death Eater who impersonates Mad-Eye Moody and tries to deliver Harry to Voldemort during the Triwizard Tournament.\n",
      "\n",
      "## **9. Fenrir Greyback**\n",
      "A werewolf and Death Eater who attacks children to turn them into werewolves, including Remus Lupin.\n",
      "\n",
      "## **10. Quirinus Quirrell**\n",
      "The Defense Against Dark Arts teacher in Harry's first year who hosts Voldemort's spirit and tries to kill Harry.\n",
      "\n",
      "**Sources:**\n",
      "- [Death Eater - Wikipedia](https://en.wikipedia.org/wiki/Death_Eater)\n",
      "- [10 Best Harry Potter Villains - Merchmates](https://www.merchmates.co.uk/blog/fandom/best-harry-potter-villains/)\n",
      "- [Top 10 Harry Potter Villains - i Top Ten List](https://itoptenlist.com/top-10-harry-potter-villains/)\n",
      "\n",
      "\n",
      "\n",
      "\n",
      "------------------\n",
      "\n",
      "\n",
      "[Info from Web Search]\n",
      "Based on my research, here are the **Top 10 Enemies of Harry Potter**:\n",
      "\n",
      "## **1. Lord Voldemort** \n",
      "The main antagonist and Harry's ultimate nemesis. As the Dark Lord who murdered Harry's parents and tried to kill him as a baby, Voldemort represents the ultimate evil in the series.\n",
      "\n",
      "## **2. Bellatrix Lestrange**\n",
      "One of Voldemort's most loyal Death Eaters, responsible for killing Sirius Black and torturing Neville's parents into insanity.\n",
      "\n",
      "## **3. Lucius Malfoy**\n",
      "A high-ranking Death Eater and father to Draco, constantly scheming against Harry and his friends while maintaining a respectable pure-blood facade.\n",
      "\n",
      "## **4. Peter Pettigrew (Wormtail)**\n",
      "The traitor who betrayed Harry's parents to Voldemort, leading to their deaths. He was once James Potter's friend.\n",
      "\n",
      "## **5. Dolores Umbridge**\n",
      "While not a Death Eater, she represents institutional evil as a Ministry official who tortured students and enforced oppressive policies at Hogwarts.\n",
      "\n",
      "## **6. Draco Malfoy**\n",
      "Harry's school rival who constantly bullies him and later becomes a Death Eater, though his character becomes more complex as the series progresses.\n",
      "\n",
      "## **7. Professor Quirrell**\n",
      "The Defense Against the Dark Arts teacher in Harry's first year, who was secretly hosting Voldemort's spirit.\n",
      "\n",
      "## **8. Barty Crouch Jr.**\n",
      "A Death Eater who impersonated Mad-Eye Moody and nearly delivered Harry to Voldemort in the Goblet of Fire.\n",
      "\n",
      "## **9. Fenrir Greyback**\n",
      "A werewolf and Death Eater who attacked children to turn them into werewolves, including Remus Lupin.\n",
      "\n",
      "## **10. Severus Snape** (complicated)\n",
      "While ultimately working to protect Harry, he spent years tormenting him as a teacher and was responsible for relaying the prophecy that led to his parents' deaths.\n",
      "\n",
      "**Sources:**\n",
      "- [Merchmates: 10 Best Harry Potter Villains, Ranked](https://www.merchmates.co.uk/blog/fandom/best-harry-potter-villains/)\n",
      "- [Moviefone: 10 Best Harry Potter Villains, Ranked](https://www.moviefone.com/news/10-best-harry-potter-villains-ranked/)\n",
      "- [Sweet N' Sour Reviews: All 19 Harry Potter Villains, Ranked](https://www.sweetandsourreviews.com/post/all-19-harry-potter-villains-ranked)\n",
      "\n",
      "\n",
      "\n",
      "\n",
      "------------------\n",
      "\n",
      "\n",
      "------------------\n",
      "\n",
      "{'summaryAgent': {'summary': 'Top 10 Enemies of Harry Potter (concise):\\n\\n1. Lord Voldemort – Dark Lord who killed Harry’s parents and repeatedly tries to kill him.  \\n2. Bellatrix Lestrange – Fanatical Death Eater; murdered Sirius Black and tortured the Longbottoms.  \\n3. Dolores Umbridge – Sadistic Ministry bureaucrat who enforces brutal rules at Hogwarts.  \\n4. Draco Malfoy – School rival who becomes a Death Eater and bullies Harry throughout.  \\n5. Lucius Malfoy – Wealthy Death Eater who uses influence to aid Voldemort.  \\n6. Peter Pettigrew (Wormtail) – Former friend who betrayed Harry’s parents to Voldemort.  \\n7. Severus Snape – Antagonistic teacher whose actions indirectly caused Lily and James’s deaths (though ultimately protecting Harry).  \\n8. Barty Crouch Jr. – Death Eater who impersonates Moody and manipulates the Triwizard Tournament.  \\n9. Fenrir Greyback – Werewolf who attacks children to recruit them, including Remus Lupin.  \\n10. Quirinus Quirrell – First-year professor who hosts Voldemort’s spirit and tries to kill Harry.'}}\n"
     ]
    },
    {
     "data": {
      "text/markdown": [
       "## Summary : Top 10 Enemies of Harry Potter (concise):\n",
       "\n",
       "1. Lord Voldemort – Dark Lord who killed Harry’s parents and repeatedly tries to kill him.  \n",
       "2. Bellatrix Lestrange – Fanatical Death Eater; murdered Sirius Black and tortured the Longbottoms.  \n",
       "3. Dolores Umbridge – Sadistic Ministry bureaucrat who enforces brutal rules at Hogwarts.  \n",
       "4. Draco Malfoy – School rival who becomes a Death Eater and bullies Harry throughout.  \n",
       "5. Lucius Malfoy – Wealthy Death Eater who uses influence to aid Voldemort.  \n",
       "6. Peter Pettigrew (Wormtail) – Former friend who betrayed Harry’s parents to Voldemort.  \n",
       "7. Severus Snape – Antagonistic teacher whose actions indirectly caused Lily and James’s deaths (though ultimately protecting Harry).  \n",
       "8. Barty Crouch Jr. – Death Eater who impersonates Moody and manipulates the Triwizard Tournament.  \n",
       "9. Fenrir Greyback – Werewolf who attacks children to recruit them, including Remus Lupin.  \n",
       "10. Quirinus Quirrell – First-year professor who hosts Voldemort’s spirit and tries to kill Harry."
      ],
      "text/plain": [
       "<IPython.core.display.Markdown object>"
      ]
     },
     "metadata": {},
     "output_type": "display_data"
    }
   ],
   "source": [
    "for step in workflow.stream({\"topic\": \"Top 10 Enemies of Harry Potter ?\"}):\n",
    "    print(step)\n",
    "\n",
    "display(Markdown(f\"## Summary : {list(step.values())[0]['summary']}\"))"
   ]
  },
  {
   "cell_type": "code",
   "execution_count": null,
   "id": "1295d7cf",
   "metadata": {},
   "outputs": [],
   "source": []
  }
 ],
 "metadata": {
  "kernelspec": {
   "display_name": "Python 3",
   "language": "python",
   "name": "python3"
  },
  "language_info": {
   "codemirror_mode": {
    "name": "ipython",
    "version": 3
   },
   "file_extension": ".py",
   "mimetype": "text/x-python",
   "name": "python",
   "nbconvert_exporter": "python",
   "pygments_lexer": "ipython3",
   "version": "3.11.13"
  }
 },
 "nbformat": 4,
 "nbformat_minor": 5
}
