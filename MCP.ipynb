{
 "cells": [
  {
   "cell_type": "code",
   "execution_count": 70,
   "id": "a47f0c26",
   "metadata": {},
   "outputs": [],
   "source": [
    "from langchain_groq import ChatGroq\n",
    "from langgraph.prebuilt import create_react_agent\n",
    "from langgraph.checkpoint.memory import InMemorySaver\n",
    "from mcp import ClientSession, StdioServerParameters\n",
    "from mcp.client.stdio import stdio_client\n",
    "import streamlit as st\n",
    "import os\n",
    "from langchain_mcp_adapters.tools import load_mcp_tools\n",
    "from IPython.display import Markdown, display\n",
    "from langchain_core.tools import tool\n",
    "from langgraph.graph import StateGraph, END, START\n",
    "from IPython.display import Image, Markdown, display\n"
   ]
  },
  {
   "cell_type": "code",
   "execution_count": 72,
   "id": "937449cf",
   "metadata": {},
   "outputs": [],
   "source": [
    "from typing import Dict,Annotated,List\n",
    "from langchain_core.messages import AnyMessage\n",
    "from langgraph.graph.message import add_messages\n",
    "from typing_extensions import TypedDict\n",
    "from langchain_core.messages import SystemMessage, HumanMessage\n",
    "\n",
    "\n",
    "class ArticleResponse(TypedDict):\n",
    "    topic: str\n",
    "    summary: str\n",
    "    knowledge: Annotated[list[AnyMessage], add_messages]\n",
    "    \n",
    "   "
   ]
  },
  {
   "cell_type": "code",
   "execution_count": 73,
   "id": "cd165b09",
   "metadata": {},
   "outputs": [],
   "source": [
    "os.environ[\"GROQ_API_KEY\"] = os.getenv(\"GROQ_API_KEY\")"
   ]
  },
  {
   "cell_type": "code",
   "execution_count": 74,
   "id": "e3429bc8",
   "metadata": {},
   "outputs": [],
   "source": [
    "model_name = \"moonshotai/kimi-k2-instruct\" #\"moonshotai/kimi-k2-instruct\" \"qwen/qwen3-32b\"\n",
    "temperature = 0.0\n",
    "\n",
    "\n",
    "llm = ChatGroq(\n",
    "    model_name=model_name,\n",
    "    temperature=temperature\n",
    ")   \n"
   ]
  },
  {
   "cell_type": "code",
   "execution_count": 75,
   "id": "73185315",
   "metadata": {},
   "outputs": [],
   "source": [
    "async def airbnbAgent(state):\n",
    "    \n",
    "    server_params = StdioServerParameters(\n",
    "            command= \"npx\",\n",
    "            args= [\n",
    "                \"-y\",\n",
    "                \"@openbnb/mcp-server-airbnb\",\n",
    "                \"--ignore-robots-txt\"\n",
    "            ],\n",
    "        )\n",
    "    \n",
    "    \n",
    "    async with stdio_client(server_params) as (read, write):\n",
    "            async with ClientSession(read, write) as session:\n",
    "                print(\"Initializing connection...\")\n",
    "                await session.initialize()\n",
    "\n",
    "                # Get tools\n",
    "                print(\"Loading tools...\")\n",
    "                tools = await load_mcp_tools(session)\n",
    "                \n",
    "                \n",
    "                agent = create_react_agent(\n",
    "                    model=llm,\n",
    "                    tools=tools,\n",
    "                    prompt = (\n",
    "                        \"\"\"\n",
    "                        **ADVANCED HOTEL SEARCH FORMAT**\n",
    "\n",
    "                        ## 🎯 Search Summary\n",
    "                        - **Location:** [location] | **Dates:** [checkin] → [checkout]\n",
    "                        - **Guests:** [adults]A, [children]C, [infants]I, [pets]P\n",
    "                        - **Room:** [room type] | **Stars:** [rating] | **Amenities:** [amenities]\n",
    "                        - **Results:** [number] hotels\n",
    "\n",
    "                        ## 🏨 Hotel Listings\n",
    "                        ### [Hotel Name]\n",
    "                        | Detail | Info |\n",
    "                        |--------|------|\n",
    "                        | ⭐ Rating | [rating]/5 ([reviews]) |\n",
    "                        | 📍 Address | [full address] |\n",
    "                        | 💰 Rate | $[price]/night (+$[tax]) |\n",
    "                        | 🏠 Rooms | [categories] |\n",
    "                        | 📏 Distance | [city center] • [airport] |\n",
    "                        | 🔗 Booking | [URL] |\n",
    "                        | 📞 Contact | [phone] • [website] |\n",
    "\n",
    "                        **Amenities:** [pool/gym/spa, dining, transport, business, pets, WiFi, services]  \n",
    "                        **Booking:** Check-in [time], Check-out [time], Cancellation [policy], Payment [methods], Breakfast [info], Parking [info], Extra Beds [policy]\n",
    "\n",
    "                        **Match Analysis:** Budget [fit], Amenities [X/Y matched], Location [score], Guest Reviews [highlights]  \n",
    "                        **Recommendations:** Best for [use case], Offers [promos], Tips [advice]\n",
    "\n",
    "                        -- repeat per hotel --\n",
    "\n",
    "                        ## 📈 Comparison\n",
    "                        | Hotel | Rating | Price | Features | Link |\n",
    "                        |-------|--------|-------|----------|------|\n",
    "                        | [H1] | [rating]⭐ | $[price] | [2 highlights] | [URL] |\n",
    "                        | [H2] | [rating]⭐ | $[price] | [2 highlights] | [URL] |\n",
    "\n",
    "                        ## 🏆 Final Picks\n",
    "                        - **Best Value:** [hotel + reason]\n",
    "                        - **Luxury:** [hotel + features]\n",
    "                        - **Budget:** [hotel + savings]\n",
    "                        - **Location:** [hotel + benefit]\n",
    "                        - **Amenities:** [hotel + standout]\n",
    "                        \"\"\"\n",
    "                    )\n",
    "                )\n",
    "            \n",
    "                response = await agent.ainvoke({\"messages\": [{\"role\": \"user\", \"content\": state['topic']}]})\n",
    "\n",
    "                ai_content = response[\"messages\"][-1].content\n",
    "\n",
    "                return {\"knowledge\": [f\"[Info from AirBnb Search]\\n{ai_content}\\n\\n\"]}\n",
    "                "
   ]
  },
  {
   "cell_type": "code",
   "execution_count": 78,
   "id": "46df8015",
   "metadata": {},
   "outputs": [
    {
     "name": "stdout",
     "output_type": "stream",
     "text": [
      "Initializing connection...\n",
      "Loading tools...\n"
     ]
    }
   ],
   "source": [
    "res = await airbnbAgent({\"topic\": \"Find me the top 5 Airbnb in Darjeeling for next 3 days within 8000 for 2 people?\"})"
   ]
  },
  {
   "cell_type": "code",
   "execution_count": 79,
   "id": "2f777386",
   "metadata": {},
   "outputs": [
    {
     "data": {
      "text/markdown": [
       "# 📝 Report\n",
       "\n",
       "[\"[Info from AirBnb Search]\\nBased on my search, I found several excellent Airbnb options in Darjeeling within your budget of ₹8000 for 2 people. Here are the **Top 5 Airbnb listings** that offer great value, location, and guest satisfaction:\\n\\n## 🏆 Top 5 Airbnb in Darjeeling (Within ₹8000 for 2 People)\\n\\n### 1. **Charming A-Frame Retreat** ⭐ 4.86/5 (21 reviews)\\n- **Price:** ₹5,706 for 5 nights (₹1,141/night)\\n- **Beds:** 1 bed\\n- **Status:** Guest favourite\\n- **Link:** https://www.airbnb.com/rooms/1133233227086652662\\n- **Best for:** Couples seeking a cozy, unique stay with excellent ratings\\n\\n### 2. **Teesta Homestay (Traveler's Room)** ⭐ 4.87/5 (137 reviews)\\n- **Price:** ₹5,136 for 5 nights (₹1,027/night)\\n- **Status:** Guest favourite\\n- **Link:** https://www.airbnb.com/rooms/17026446\\n- **Best for:** Budget-conscious travelers with excellent reviews\\n\\n### 3. **A Quiet Nest-Green room: view of Kangchenjunga** ⭐ 4.87/5 (119 reviews)\\n- **Price:** ₹5,718 for 5 nights (₹1,143/night)\\n- **Status:** Guest favourite\\n- **Link:** https://www.airbnb.com/rooms/52215996\\n- **Best for:** Mountain views and peaceful atmosphere\\n\\n### 4. **Feel At Home (Entire Apartment)** ⭐ 4.82/5 (332 reviews)\\n- **Price:** ₹6,277 for 5 nights (₹1,255/night)\\n- **Beds:** 2 double beds\\n- **Status:** Guest favourite\\n- **Link:** https://www.airbnb.com/rooms/9403847\\n- **Best for:** Groups/families wanting entire apartment space\\n\\n### 5. **Feel at home 2.0 (Entire Apartment)** ⭐ 4.69/5 (119 reviews)\\n- **Price:** ₹5,763 for 5 nights (₹1,152/night)\\n- **Beds:** 3 beds\\n- **Link:** https://www.airbnb.com/rooms/650396672271384685\\n- **Best for:** Larger groups needing multiple beds\\n\\n## 📊 Quick Comparison\\n| Property | Rating | Price/Night | Type | Best Feature |\\n|----------|--------|-------------|------|--------------|\\n| A-Frame Retreat | 4.86⭐ | ₹1,141 | 1 bed | Unique architecture |\\n| Teesta Homestay | 4.87⭐ | ₹1,027 | Traveler's room | Lowest price |\\n| Quiet Nest | 4.87⭐ | ₹1,143 | Green room | Kangchenjunga views |\\n| Feel At Home | 4.82⭐ | ₹1,255 | Entire apartment | 332 reviews |\\n| Feel at Home 2.0 | 4.69⭐ | ₹1,152 | 3-bed apartment | Spacious |\\n\\n## 🎯 My Recommendations:\\n- **Best Value:** **Teesta Homestay** - Lowest price with highest guest satisfaction\\n- **Best for Couples:** **A-Frame Retreat** - Unique, cozy, and highly rated\\n- **Best Views:** **Quiet Nest** - Kangchenjunga mountain views\\n- **Best Space:** **Feel At Home** - Entire apartment with multiple beds\\n\\nAll these properties are well within your ₹8000 budget for 3 days and offer excellent guest experiences based on their ratings and reviews. Would you like me to get more detailed information about any specific property?\\n\\n\"]"
      ],
      "text/plain": [
       "<IPython.core.display.Markdown object>"
      ]
     },
     "metadata": {},
     "output_type": "display_data"
    }
   ],
   "source": [
    "display(Markdown(f\"# 📝 Report\\n\\n{res['knowledge']}\"))"
   ]
  },
  {
   "cell_type": "code",
   "execution_count": 80,
   "id": "221fe2d7",
   "metadata": {},
   "outputs": [],
   "source": [
    "import requests\n",
    "import json\n",
    "import os"
   ]
  },
  {
   "cell_type": "code",
   "execution_count": 81,
   "id": "9d3864bd",
   "metadata": {},
   "outputs": [],
   "source": [
    "def extract_weather(data: dict) -> str:\n",
    "    \"\"\"\n",
    "    Extracts location, current weather, and 3-day forecast info from WeatherAPI JSON.\n",
    "    Returns as a formatted string instead of printing.\n",
    "    \"\"\"\n",
    "    lines = []\n",
    "\n",
    "    # --- Location info ---\n",
    "    loc = data.get(\"location\", {})\n",
    "    location = f\"{loc.get('name')}, {loc.get('region')}, {loc.get('country')}\"\n",
    "    lines.append(f\"📍 Location: {location}\")\n",
    "\n",
    "    # --- Current weather ---\n",
    "    current = data.get(\"current\", {})\n",
    "    condition = current.get(\"condition\", {}).get(\"text\")\n",
    "    temp_c = current.get(\"temp_c\")\n",
    "    feelslike_c = current.get(\"feelslike_c\")\n",
    "    humidity = current.get(\"humidity\")\n",
    "    gust_kph = current.get(\"gust_kph\")\n",
    "    pressure_mb = current.get(\"pressure_mb\")\n",
    "\n",
    "    lines.append(\"\\n🌤️ Current Weather:\")\n",
    "    lines.append(f\"  Temp: {temp_c}°C (Feels like {feelslike_c}°C)\")\n",
    "    lines.append(f\"  Condition: {condition}\")\n",
    "    lines.append(f\"  Humidity: {humidity}%\")\n",
    "    lines.append(f\"  Wind Gust: {gust_kph} kph\")\n",
    "    lines.append(f\"  Pressure: {pressure_mb} mb\")\n",
    "\n",
    "    # --- Forecast info ---\n",
    "    forecast = data.get(\"forecast\", {}).get(\"forecastday\", [])\n",
    "    lines.append(\"\\n📅 Forecast:\")\n",
    "    for day in forecast:\n",
    "        d = day.get(\"date\")\n",
    "        details = day.get(\"day\", {})\n",
    "        lines.append(f\"  Date: {d}\")\n",
    "        lines.append(f\"    Condition: {details.get('condition', {}).get('text')}\")\n",
    "        lines.append(f\"    Max Temp: {details.get('maxtemp_c')}°C\")\n",
    "        lines.append(f\"    Min Temp: {details.get('mintemp_c')}°C\")\n",
    "        lines.append(f\"    Avg Humidity: {details.get('avghumidity')}%\")\n",
    "        lines.append(f\"    Max Wind: {details.get('maxwind_kph')} kph\")\n",
    "        lines.append(\"-\" * 40)\n",
    "\n",
    "    return \"\\n\".join(lines)\n"
   ]
  },
  {
   "cell_type": "code",
   "execution_count": 82,
   "id": "407daa0e",
   "metadata": {},
   "outputs": [],
   "source": [
    "@tool(\"WeatherForecast\")\n",
    "def get_forecast(location: str, days: int = 3):\n",
    "    \"\"\"\n",
    "    Fetch weather forecast for a given location using WeatherAPI.\n",
    "\n",
    "    Args:\n",
    "        location (str): City name or coordinates (e.g., \"London\" or \"51.5072,-0.1276\").\n",
    "        days (int): Number of days to forecast (default = 3).\n",
    "\n",
    "    Returns:\n",
    "        dict: Forecast data if successful, None otherwise.\n",
    "    \"\"\"\n",
    "    print(\"WeatherForecast tool\")\n",
    "    API_KEY = os.getenv(\"WEATHER_API_KEY\")  # ⚠️ keep private in real apps\n",
    "    \n",
    "    params = {\n",
    "        \"key\": API_KEY,\n",
    "        \"q\": location,\n",
    "        \"days\": days,\n",
    "        \"aqi\": \"no\",\n",
    "        \"alerts\": \"yes\"\n",
    "    }\n",
    "\n",
    "    BASE_URL = f\"http://api.weatherapi.com/v1/forecast.json?key={params['key']}&q={params['q']}&days={params['days']}&aqi={params['aqi']}&alerts={params['alerts']}\"\n",
    "\n",
    "    try:\n",
    "        response = requests.get(BASE_URL, timeout=10)\n",
    "        response.raise_for_status()  # raise error for bad status\n",
    "        data = response.json()\n",
    "        forecast = extract_weather(data)\n",
    "        return forecast\n",
    "    except requests.RequestException as e:\n",
    "        print(f\"Error fetching forecast: {e}\")\n",
    "        return None"
   ]
  },
  {
   "cell_type": "code",
   "execution_count": 83,
   "id": "3bea3f1a",
   "metadata": {},
   "outputs": [
    {
     "name": "stdout",
     "output_type": "stream",
     "text": [
      "WeatherForecast tool\n"
     ]
    }
   ],
   "source": [
    "weather = get_forecast.invoke(\"Darjeeling\")"
   ]
  },
  {
   "cell_type": "code",
   "execution_count": 51,
   "id": "64bf6021",
   "metadata": {},
   "outputs": [
    {
     "name": "stdout",
     "output_type": "stream",
     "text": [
      "📍 Location: Darjeeling, West Bengal, India\n",
      "\n",
      "🌤️ Current Weather:\n",
      "  Temp: 19.5°C (Feels like 19.5°C)\n",
      "  Condition: Patchy rain nearby\n",
      "  Humidity: 93%\n",
      "  Wind Gust: 8.0 kph\n",
      "  Pressure: 1011.0 mb\n",
      "\n",
      "📅 Forecast:\n",
      "  Date: 2025-09-06\n",
      "    Condition: Moderate rain\n",
      "    Max Temp: 21.7°C\n",
      "    Min Temp: 16.4°C\n",
      "    Avg Humidity: 89%\n",
      "    Max Wind: 8.3 kph\n",
      "----------------------------------------\n",
      "  Date: 2025-09-07\n",
      "    Condition: Moderate rain\n",
      "    Max Temp: 20.9°C\n",
      "    Min Temp: 17.7°C\n",
      "    Avg Humidity: 89%\n",
      "    Max Wind: 7.2 kph\n",
      "----------------------------------------\n",
      "  Date: 2025-09-08\n",
      "    Condition: Moderate rain\n",
      "    Max Temp: 21.6°C\n",
      "    Min Temp: 16.3°C\n",
      "    Avg Humidity: 92%\n",
      "    Max Wind: 5.4 kph\n",
      "----------------------------------------\n"
     ]
    }
   ],
   "source": [
    "print(weather)"
   ]
  },
  {
   "cell_type": "code",
   "execution_count": 97,
   "id": "9eb22700",
   "metadata": {},
   "outputs": [],
   "source": [
    "def weatherAgent(state):\n",
    "    print(\"Weather Agent..\")\n",
    "    weather_agent = create_react_agent(\n",
    "            model=llm,\n",
    "            tools=[get_forecast],\n",
    "            prompt = (\n",
    "                \"\"\"\n",
    "                You are a Weather Assistant.\n",
    "\n",
    "                - Use the **WeatherForecast tool** to fetch the forecast for the location mentioned in the query.  \n",
    "                - Then generate a **Weather Report** strictly following the Markdown format below.  \n",
    "                - Do not add extra sections, explanations, or text outside the format.  \n",
    "                - Fill in <placeholders> with actual values.  \n",
    "\n",
    "                ## Weather Report for <Location> (Next <Days> Days)\n",
    "\n",
    "                **Current Conditions:** <CurrentTemp>°C with <CurrentCondition> (<Rain/Heatwave/Clear/Other summary>)\n",
    "\n",
    "                **Forecast Summary:**\n",
    "                - **<Date 1>:** <Condition>, <MaxTemp>°C / <MinTemp>°C (<Rain/Heatwave/Clear/Other summary>)\n",
    "                - **<Date 2>:** <Condition>, <MaxTemp>°C / <MinTemp>°C (<Rain/Heatwave/Clear/Other summary>)\n",
    "                - **<Date 3>:** <Condition>, <MaxTemp>°C / <MinTemp>°C (<Rain/Heatwave/Clear/Other summary>)\n",
    "                ... (repeat for all forecast days)\n",
    "\n",
    "                **Tour Recommendation:**  \n",
    "                Based on the weather forecast, state clearly if it is a good time to visit <Location>. \n",
    "                Give practical advice: clothing, precautions, indoor/outdoor activity suggestions.\n",
    "                \"\"\"\n",
    "            ),\n",
    "            name=\"Weather Forecast Assistant\",\n",
    "        )\n",
    "\n",
    "    result = weather_agent.invoke({\"messages\": [{\"role\": \"user\", \"content\": state['topic']}]})\n",
    "    ai_content = result[\"messages\"][-1].content\n",
    "\n",
    "    return {\"knowledge\": [f\"[Info from Weather Search]\\n{ai_content}\\n\\n\"]}"
   ]
  },
  {
   "cell_type": "code",
   "execution_count": 98,
   "id": "a41cb705",
   "metadata": {},
   "outputs": [
    {
     "name": "stdout",
     "output_type": "stream",
     "text": [
      "Weather Agent..\n",
      "WeatherForecast tool\n"
     ]
    }
   ],
   "source": [
    "result = weatherAgent({'topic': 'Find me the top 5 Airbnb in Darjeeling for next 3 days within 8000 for 2 people ?'})"
   ]
  },
  {
   "cell_type": "code",
   "execution_count": 99,
   "id": "9a3f2148",
   "metadata": {},
   "outputs": [
    {
     "name": "stdout",
     "output_type": "stream",
     "text": [
      "{'knowledge': ['[Info from Weather Search]\\n## Weather Report for Darjeeling (Next 3 Days)\\n\\n**Current Conditions:** 19.1°C with Patchy rain nearby (Rain)\\n\\n**Forecast Summary:**\\n- **2025-09-07:** Moderate rain, 20.9°C / 17.7°C (Rain)\\n- **2025-09-08:** Moderate rain, 21.6°C / 16.3°C (Rain)\\n- **2025-09-09:** Moderate rain, 21.5°C / 16.8°C (Rain)\\n\\n**Tour Recommendation:**  \\nBased on the weather forecast, it is NOT an ideal time to visit Darjeeling due to continuous moderate rain expected throughout the next 3 days. \\n\\n**Practical advice:**\\n- **Clothing:** Pack waterproof jackets, raincoats, umbrellas, and quick-dry clothing\\n- **Precautions:** Be prepared for limited visibility, potential landslides in hilly areas, and transportation delays\\n- **Activities:** Focus on indoor activities like visiting tea estates with covered areas, local museums, or enjoying the famous Darjeeling tea at cozy cafes\\n- **Alternative:** Consider postponing your trip until the weather clears up for better sightseeing opportunities like Tiger Hill sunrise views or mountain trekking\\n\\nFor Airbnb listings within your budget (₹8000 for 2 people for 3 days), I recommend checking platforms like:\\n- Airbnb.com\\n- Booking.com\\n- MakeMyTrip\\n- Goibibo\\n\\nSearch for properties in Darjeeling town, especially those with good reviews for views and accessibility, keeping in mind the rainy weather conditions.\\n\\n']}\n"
     ]
    }
   ],
   "source": [
    "print(result)"
   ]
  },
  {
   "cell_type": "code",
   "execution_count": 123,
   "id": "25d4b6e9",
   "metadata": {},
   "outputs": [],
   "source": [
    "touragentprompt = \"\"\"\n",
    "You are a Travel & Tour Guide Assistant. Suggest a tour plan based on the user query and the Airbnb and Weather reports.\n",
    "\n",
    "**Strictly follow the Markdown Output Format below.**  \n",
    "\n",
    "---\n",
    "\n",
    "## 🎯 Search Summary  \n",
    "- **Location:** [location] | **Dates:** [checkin] → [checkout]  \n",
    "- **Guests:** [adults]A, [children]C, [infants]I, [pets]P  \n",
    "- **Room:** [room type] | **Stars:** [rating] | **Amenities:** [amenities]  \n",
    "- **Results:** [number] hotels  \n",
    "\n",
    "---\n",
    "\n",
    "## 🏨 Hotel Listings  \n",
    "\n",
    "### [Hotel Name]  \n",
    "| Detail | Info |  \n",
    "|--------|------|  \n",
    "| ⭐ Rating | [rating]/5 ([reviews]) |  \n",
    "| 📍 Address | [full address] |  \n",
    "| 💰 Rate | $[price]/night (+$[tax]) |  \n",
    "| 🏠 Rooms | [categories] |  \n",
    "| 📏 Distance | [city center] • [airport] |  \n",
    "| 🔗 Booking | [URL] |  \n",
    "| 📞 Contact | [phone] • [website] |  \n",
    "\n",
    "---\n",
    "\n",
    "### 🏆 Final Picks  \n",
    "- **Best Value:** [hotel + reason]  \n",
    "- **Luxury:** [hotel + features]  \n",
    "- **Budget:** [hotel + savings]  \n",
    "- **Location:** [hotel + benefit]  \n",
    "- **Amenities:** [hotel + standout]  \n",
    "\n",
    "---\n",
    "\n",
    "### 🌤️ Weather Summary  \n",
    "- **Location:** [location]  \n",
    "- **Duration:** [days] Days ([checkin] → [checkout])  \n",
    "- **Current:** 🌡️ [current_temp]°C, [condition] | Feels like [feelslike]°C  \n",
    "- **Humidity:** [humidity]% | **Wind:** [wind] kph | **Pressure:** [pressure] mb  \n",
    "\n",
    "---\n",
    "\n",
    "### 📅 3-Day Forecast  \n",
    "| Date       | Condition | 🌡️ Max Temp | 🌡️ Min Temp | 💧 Humidity | 💨 Max Wind |  \n",
    "|------------|-----------|-------------|-------------|-------------|-------------|  \n",
    "| [date1]    | [cond1]   | [max1]°C    | [min1]°C    | [hum1]%     | [wind1] kph |  \n",
    "| [date2]    | [cond2]   | [max2]°C    | [min2]°C    | [hum2]%     | [wind2] kph |  \n",
    "| [date3]    | [cond3]   | [max3]°C    | [min3]°C    | [hum3]%     | [wind3] kph |  \n",
    "\n",
    "---\n",
    "\n",
    "### 🧭 Travel & Stay Insights  \n",
    "- **Clothing:** [clothing advice]  \n",
    "- **Precautions:** [safety advice]  \n",
    "- **Activities:** [indoor/outdoor suggestions]  \n",
    "- **Stay Match:** Recommend [cozy apartments / mountain-view homes / family stays] based on forecast  \n",
    "\n",
    "---\n",
    "\n",
    "### 🏡 Stay Match with Weather\n",
    "- **If Rainy/Cloudy:** Cozy Airbnbs (like {PropertyX}) are recommended since you’ll spend more time indoors. Look for ones with indoor seating, tea/coffee facilities, or scenic balconies to enjoy the misty views.  \n",
    "- **If Sunny/Clear:** Open-view Airbnbs (like {PropertyY}) are better, offering outdoor seating and mountain/sunset views.  \n",
    "- **If Mixed Weather:** Balanced stays (like {PropertyZ}) with both indoor comfort and outdoor access give flexibility.  \n",
    "\n",
    "### 🌟 Alternative Travel Note\n",
    "{AlternativeAdvice}  \n",
    "---\n",
    "\n",
    "\"\"\""
   ]
  },
  {
   "cell_type": "code",
   "execution_count": 124,
   "id": "d6f8499d",
   "metadata": {},
   "outputs": [],
   "source": [
    "def tourAgent(state):\n",
    "    context = f\"Based on User Query : {state['topic']} \\nanalyze below Reports on Airbnb and Weather: {state['knowledge']}\"\n",
    "\n",
    "    response = llm.invoke([\n",
    "        SystemMessage(content=touragentprompt),\n",
    "        HumanMessage(content=context)\n",
    "    ])\n",
    "    return {\"summary\": response.content}"
   ]
  },
  {
   "cell_type": "code",
   "execution_count": 125,
   "id": "7f11f955",
   "metadata": {},
   "outputs": [
    {
     "data": {
      "text/plain": [
       "<langgraph.graph.state.StateGraph at 0x7d14a1c60750>"
      ]
     },
     "execution_count": 125,
     "metadata": {},
     "output_type": "execute_result"
    }
   ],
   "source": [
    "graph = StateGraph(ArticleResponse)\n",
    "graph.add_node(\"weatherAgent\", weatherAgent)\n",
    "graph.add_node(\"airbnbAgent\", airbnbAgent)\n",
    "graph.add_node(\"tourAgent\", tourAgent)\n",
    "\n",
    "\n",
    "graph.add_edge(START, \"weatherAgent\")\n",
    "graph.add_edge(START, \"airbnbAgent\")\n",
    "graph.add_edge(\"weatherAgent\", \"tourAgent\")\n",
    "graph.add_edge(\"airbnbAgent\", \"tourAgent\")\n",
    "graph.add_edge(\"tourAgent\", END)"
   ]
  },
  {
   "cell_type": "code",
   "execution_count": 126,
   "id": "af04ce13",
   "metadata": {},
   "outputs": [
    {
     "data": {
      "image/png": "[encoded data removed]",
      "text/plain": [
       "<IPython.core.display.Image object>"
      ]
     },
     "execution_count": 126,
     "metadata": {},
     "output_type": "execute_result"
    }
   ],
   "source": [
    "workflow = graph.compile()\n",
    "\n",
    "Image(workflow.get_graph().draw_mermaid_png())"
   ]
  },
  {
   "cell_type": "code",
   "execution_count": 127,
   "id": "d3b8b988",
   "metadata": {},
   "outputs": [
    {
     "name": "stdout",
     "output_type": "stream",
     "text": [
      "Weather Agent..\n",
      "Initializing connection...\n"
     ]
    },
    {
     "name": "stdout",
     "output_type": "stream",
     "text": [
      "WeatherForecast tool\n",
      "Loading tools...\n",
      "{'weatherAgent': {'knowledge': ['[Info from Weather Search]\\n## Weather Report for Goa (Next 3 Days)\\n\\n**Current Conditions:** 25.8°C with Patchy rain nearby (Rain expected)\\n\\n**Forecast Summary:**\\n- **2025-09-07:** Patchy rain nearby, 27.7°C / 25.5°C (Light rain expected)\\n- **2025-09-08:** Moderate rain, 27.4°C / 25.1°C (Heavy rain expected)\\n- **2025-09-09:** Patchy rain nearby, 27.5°C / 24.4°C (Light rain expected)\\n\\n**Tour Recommendation:**  \\nBased on the weather forecast, it is NOT an ideal time to visit Goa due to continuous rain expected over the next 3 days. \\n\\n**Practical advice:**\\n- **Clothing:** Pack waterproof jackets, umbrellas, and quick-dry clothing\\n- **Precautions:** Be prepared for potential flooding in low-lying areas; avoid beach activities during heavy rain\\n- **Activities:** Focus on indoor activities like visiting museums, churches, spice plantations with covered areas, casino visits, or enjoying Goan cuisine at covered restaurants\\n- **Travel:** Allow extra time for transportation as roads may be affected by rain\\n\\nFor Airbnb listings within your budget (₹8000 for 2 people for 3 days), I recommend checking:\\n- Airbnb website or app directly\\n- Filter by price: ₹0-₹2700 per night\\n- Look for properties in North Goa (Baga, Calangute, Candolim) or South Goa (Palolem, Agonda)\\n- Consider homestays or guesthouses which are often more budget-friendly\\n- Book with flexible cancellation policies given the weather conditions\\n\\n']}}\n",
      "{'airbnbAgent': {'knowledge': [\"[Info from AirBnb Search]\\nBased on my search, I found several excellent Airbnb options in Goa within your budget of ₹8000 for 2 people for 3 days. Here are the top 5 recommendations:\\n\\n## 🏆 **Top 5 Airbnb Properties in Goa (Under ₹8000 for 3 days)**\\n\\n### 1. **RoomzAway Modern Studio Apt** ⭐\\n- **Price**: ~₹3,013 for 3 nights (₹1,004/night)\\n- **Features**: WiFi, Parking, Pool access\\n- **Location**: Central Goa (15.5259°N, 73.7677°E)\\n- **Rating**: New listing\\n- **Booking**: [Airbnb Link](https://www.airbnb.com/rooms/1410191289357716204)\\n\\n### 2. **Xavier's Guest House Deluxe Room** 🏆\\n- **Price**: ~₹3,204 for 3 nights (₹1,069/night)\\n- **Features**: Superhost, Double bed, Great reviews\\n- **Rating**: 4.75/5 (353 reviews)\\n- **Original Price**: ₹4,759 (33% discount)\\n- **Booking**: [Airbnb Link](https://www.airbnb.com/rooms/39852455)\\n\\n### 3. **Studio Apt Calangute Field View** 🌴\\n- **Price**: ~₹4,307 for 3 nights (₹1,436/night)\\n- **Features**: Guest favourite, Near Calangute beach\\n- **Rating**: 4.87/5 (45 reviews)\\n- **Location**: Calangute area\\n- **Booking**: [Airbnb Link](https://www.airbnb.com/rooms/1294876725392746956)\\n\\n### 4. **Rankk Stays - Deluxe Room** 💰\\n- **Price**: ~₹2,880 for 3 nights (₹960/night)\\n- **Features**: Budget-friendly option\\n- **Location**: North Goa\\n- **Booking**: [Airbnb Link](https://www.airbnb.com/rooms/1381750640795907439)\\n\\n### 5. **Homely & Peaceful with WiFi, AC** 🏠\\n- **Price**: ~₹4,500 for 3 nights (₹1,500/night)\\n- **Features**: AC, WiFi, Peaceful location\\n- **Rating**: 4.75/5 (208 reviews)\\n- **Original Price**: ₹8,754 (48% discount)\\n- **Booking**: [Airbnb Link](https://www.airbnb.com/rooms/51527106)\\n\\n## 📊 **Quick Comparison**\\n| Property | Price/3 nights | Rating | Key Feature |\\n|----------|---------------|---------|-------------|\\n| RoomzAway Studio | ₹3,013 | New | Pool & Parking |\\n| Xavier's Guest House | ₹3,204 | 4.75⭐ | Superhost |\\n| Calangute Studio | ₹4,307 | 4.87⭐ | Beach proximity |\\n| Rankk Stays | ₹2,880 | New | Budget king |\\n| Homely Peaceful | ₹4,500 | 4.75⭐ | AC + WiFi |\\n\\n## 🎯 **Best Picks by Category**\\n- **💰 Best Budget**: Rankk Stays Deluxe Room (₹2,880)\\n- **⭐ Best Rated**: Studio Apt Calangute Field View (4.87⭐)\\n- **🏆 Best Value**: Xavier's Guest House (Superhost + reviews)\\n- **🏊 Best Amenities**: RoomzAway Modern Studio (Pool + Parking)\\n\\nAll properties are well within your ₹8000 budget for 3 nights, leaving you with extra cash for activities and dining! The prices shown are for the entire 3-day stay for 2 people.\\n\\n\"]}}\n",
      "{'tourAgent': {'summary': '## 🎯 Search Summary  \\n- **Location:** Goa, India | **Dates:** 07 Sep → 10 Sep 2025 (3 nights)  \\n- **Guests:** 2A, 0C, 0I, 0P  \\n- **Room:** Entire place / Private room | **Stars:** 4.75 – 4.87 | **Amenities:** Wi-Fi, AC, Pool, Parking  \\n- **Results:** 5 Airbnbs ≤ ₹8 000 total  \\n\\n---\\n\\n## 🏨 Hotel Listings  \\n\\n### RoomzAway Modern Studio Apt  \\n| Detail | Info |  \\n|--------|------|  \\n| ⭐ Rating | New listing (no reviews yet) |  \\n| 📍 Address | Central Goa (15.5259°N, 73.7677°E) |  \\n| 💰 Rate | ₹3 013 for 3 nights (₹1 004/night) |  \\n| 🏠 Rooms | Studio • 1 bath • Pool & parking |  \\n| 📏 Distance | 25 km to Mopa Airport • 10 km to Panjim |  \\n| 🔗 Booking | [Airbnb](https://www.airbnb.com/rooms/1410191289357716204) |  \\n\\n### Xavier’s Guest House Deluxe Room  \\n| Detail | Info |  \\n|--------|------|  \\n| ⭐ Rating | 4.75/5 (353 reviews) • Superhost |  \\n| 📍 Address | Near Calangute, North Goa |  \\n| 💰 Rate | ₹3 204 for 3 nights (₹1 069/night) |  \\n| 🏠 Rooms | Deluxe double room • Shared terrace |  \\n| 📏 Distance | 35 km to Mopa Airport • 3 km to Calangute Beach |  \\n| 🔗 Booking | [Airbnb](https://www.airbnb.com/rooms/39852455) |  \\n\\n### Studio Apt Calangute Field View  \\n| Detail | Info |  \\n|--------|------|  \\n| ⭐ Rating | 4.87/5 (45 reviews) • Guest Favourite |  \\n| 📍 Address | Calangute, North Goa |  \\n| 💰 Rate | ₹4 307 for 3 nights (₹1 436/night) |  \\n| 🏠 Rooms | 1-bed studio • Kitchenette • Balcony |  \\n| 📏 Distance | 35 km to Mopa Airport • 500 m to Calangute Beach |  \\n| 🔗 Booking | [Airbnb](https://www.airbnb.com/rooms/1294876725392746956) |  \\n\\n### Rankk Stays – Deluxe Room  \\n| Detail | Info |  \\n|--------|------|  \\n| ⭐ Rating | New listing |  \\n| 📍 Address | North Goa (Arpora-Baga belt) |  \\n| 💰 Rate | ₹2 880 for 3 nights (₹960/night) |  \\n| 🏠 Rooms | Double room • Shared kitchen |  \\n| 📏 Distance | 32 km to Mopa Airport • 2 km to Baga Beach |  \\n| 🔗 Booking | [Airbnb](https://www.airbnb.com/rooms/1381750640795907439) |  \\n\\n### Homely & Peaceful with Wi-Fi, AC  \\n| Detail | Info |  \\n|--------|------|  \\n| ⭐ Rating | 4.75/5 (208 reviews) |  \\n| 📍 Address | Siolim, North Goa |  \\n| 💰 Rate | ₹4 500 for 3 nights (₹1 500/night) |  \\n| 🏠 Rooms | 1-bed • AC • Wi-Fi • Work desk • Terrace |  \\n| 📏 Distance | 28 km to Mopa Airport • 4 km to Morjim Beach |  \\n| 🔗 Booking | [Airbnb](https://www.airbnb.com/rooms/51527106) |  \\n\\n---\\n\\n### 🏆 Final Picks  \\n- **Best Value:** Xavier’s Guest House – Superhost credibility, great reviews, still only ₹3 204 total.  \\n- **Luxury:** Calangute Field View Studio – highest rating (4.87), 500 m to beach, stylish interiors.  \\n- **Budget:** Rankk Stays – cheapest at ₹2 880, perfect for backpackers who just need a clean bed.  \\n- **Location:** Calangute Field View – walk to beach, restaurants & nightlife.  \\n- **Amenities:** RoomzAway Studio – only listing with pool & free parking, great for road-trippers.  \\n\\n---\\n\\n### 🌤️ Weather Summary  \\n- **Location:** Goa  \\n- **Duration:** 3 Days (07 Sep → 10 Sep 2025)  \\n- **Current:** 🌡️ 25.8 °C, Patchy rain nearby | Feels like 27 °C  \\n- **Humidity:** 83 % | **Wind:** 14 kph | **Pressure:** 1007 mb  \\n\\n---\\n\\n### 📅 3-Day Forecast  \\n| Date       | Condition        | 🌡️ Max Temp | 🌡️ Min Temp | 💧 Humidity | 💨 Max Wind |  \\n|------------|------------------|-------------|-------------|-------------|-------------|  \\n| 07 Sep     | Patchy rain nearby | 27.7 °C     | 25.5 °C     | 83 %        | 18 kph      |  \\n| 08 Sep     | Moderate rain    | 27.4 °C     | 25.1 °C     | 85 %        | 22 kph      |  \\n| 09 Sep     | Patchy rain nearby | 27.5 °C     | 24.4 °C     | 82 %        | 19 kph      |  \\n\\n---\\n\\n### 🧭 Travel & Stay Insights  \\n- **Clothing:** Quick-dry tees, shorts, light rain jacket, flip-flops & umbrella.  \\n- **Precautions:** Streets flood quickly; avoid bikes during heavy rain; keep electronics in dry-bags.  \\n- **Activities:** Skip beach shacks; opt for covered spice-plantation tours, Basilica & churches, casino boats, or café-hopping in Panjim/Assagao.  \\n- **Stay Match:** Choose properties with Wi-Fi & indoor seating (Xavier’s, Homely Peaceful) since you’ll be indoors 60 % of the time.  \\n\\n---\\n\\n### 🏡 Stay Match with Weather  \\n- **If Rainy/Cloudy:** Xavier’s Guest House & Homely Peaceful have cosy common areas, fast Wi-Fi, and covered balconies—perfect for sipping Kunjani coffee while it pours.  \\n- **If Sunny/Clear:** Calangute Field View balcony or RoomzAway pool deck let you soak up the brief sunshine between showers.  \\n- **If Mixed Weather:** Rankk Stays is cheap enough to extend your trip if flights get delayed by rain.  \\n\\n### 🌟 Alternative Travel Note  \\nBecause continuous rain is forecast, keep the last day flexible—book Airbnbs with free cancellation (Xavier’s & Homely offer this) and consider flying into Mopa (GOX) rather than Dabolim to avoid city water-logging.'}}\n"
     ]
    },
    {
     "data": {
      "text/markdown": [
       "## 🎯 Search Summary  \n",
       "- **Location:** Goa, India | **Dates:** 07 Sep → 10 Sep 2025 (3 nights)  \n",
       "- **Guests:** 2A, 0C, 0I, 0P  \n",
       "- **Room:** Entire place / Private room | **Stars:** 4.75 – 4.87 | **Amenities:** Wi-Fi, AC, Pool, Parking  \n",
       "- **Results:** 5 Airbnbs ≤ ₹8 000 total  \n",
       "\n",
       "---\n",
       "\n",
       "## 🏨 Hotel Listings  \n",
       "\n",
       "### RoomzAway Modern Studio Apt  \n",
       "| Detail | Info |  \n",
       "|--------|------|  \n",
       "| ⭐ Rating | New listing (no reviews yet) |  \n",
       "| 📍 Address | Central Goa (15.5259°N, 73.7677°E) |  \n",
       "| 💰 Rate | ₹3 013 for 3 nights (₹1 004/night) |  \n",
       "| 🏠 Rooms | Studio • 1 bath • Pool & parking |  \n",
       "| 📏 Distance | 25 km to Mopa Airport • 10 km to Panjim |  \n",
       "| 🔗 Booking | [Airbnb](https://www.airbnb.com/rooms/1410191289357716204) |  \n",
       "\n",
       "### Xavier’s Guest House Deluxe Room  \n",
       "| Detail | Info |  \n",
       "|--------|------|  \n",
       "| ⭐ Rating | 4.75/5 (353 reviews) • Superhost |  \n",
       "| 📍 Address | Near Calangute, North Goa |  \n",
       "| 💰 Rate | ₹3 204 for 3 nights (₹1 069/night) |  \n",
       "| 🏠 Rooms | Deluxe double room • Shared terrace |  \n",
       "| 📏 Distance | 35 km to Mopa Airport • 3 km to Calangute Beach |  \n",
       "| 🔗 Booking | [Airbnb](https://www.airbnb.com/rooms/39852455) |  \n",
       "\n",
       "### Studio Apt Calangute Field View  \n",
       "| Detail | Info |  \n",
       "|--------|------|  \n",
       "| ⭐ Rating | 4.87/5 (45 reviews) • Guest Favourite |  \n",
       "| 📍 Address | Calangute, North Goa |  \n",
       "| 💰 Rate | ₹4 307 for 3 nights (₹1 436/night) |  \n",
       "| 🏠 Rooms | 1-bed studio • Kitchenette • Balcony |  \n",
       "| 📏 Distance | 35 km to Mopa Airport • 500 m to Calangute Beach |  \n",
       "| 🔗 Booking | [Airbnb](https://www.airbnb.com/rooms/1294876725392746956) |  \n",
       "\n",
       "### Rankk Stays – Deluxe Room  \n",
       "| Detail | Info |  \n",
       "|--------|------|  \n",
       "| ⭐ Rating | New listing |  \n",
       "| 📍 Address | North Goa (Arpora-Baga belt) |  \n",
       "| 💰 Rate | ₹2 880 for 3 nights (₹960/night) |  \n",
       "| 🏠 Rooms | Double room • Shared kitchen |  \n",
       "| 📏 Distance | 32 km to Mopa Airport • 2 km to Baga Beach |  \n",
       "| 🔗 Booking | [Airbnb](https://www.airbnb.com/rooms/1381750640795907439) |  \n",
       "\n",
       "### Homely & Peaceful with Wi-Fi, AC  \n",
       "| Detail | Info |  \n",
       "|--------|------|  \n",
       "| ⭐ Rating | 4.75/5 (208 reviews) |  \n",
       "| 📍 Address | Siolim, North Goa |  \n",
       "| 💰 Rate | ₹4 500 for 3 nights (₹1 500/night) |  \n",
       "| 🏠 Rooms | 1-bed • AC • Wi-Fi • Work desk • Terrace |  \n",
       "| 📏 Distance | 28 km to Mopa Airport • 4 km to Morjim Beach |  \n",
       "| 🔗 Booking | [Airbnb](https://www.airbnb.com/rooms/51527106) |  \n",
       "\n",
       "---\n",
       "\n",
       "### 🏆 Final Picks  \n",
       "- **Best Value:** Xavier’s Guest House – Superhost credibility, great reviews, still only ₹3 204 total.  \n",
       "- **Luxury:** Calangute Field View Studio – highest rating (4.87), 500 m to beach, stylish interiors.  \n",
       "- **Budget:** Rankk Stays – cheapest at ₹2 880, perfect for backpackers who just need a clean bed.  \n",
       "- **Location:** Calangute Field View – walk to beach, restaurants & nightlife.  \n",
       "- **Amenities:** RoomzAway Studio – only listing with pool & free parking, great for road-trippers.  \n",
       "\n",
       "---\n",
       "\n",
       "### 🌤️ Weather Summary  \n",
       "- **Location:** Goa  \n",
       "- **Duration:** 3 Days (07 Sep → 10 Sep 2025)  \n",
       "- **Current:** 🌡️ 25.8 °C, Patchy rain nearby | Feels like 27 °C  \n",
       "- **Humidity:** 83 % | **Wind:** 14 kph | **Pressure:** 1007 mb  \n",
       "\n",
       "---\n",
       "\n",
       "### 📅 3-Day Forecast  \n",
       "| Date       | Condition        | 🌡️ Max Temp | 🌡️ Min Temp | 💧 Humidity | 💨 Max Wind |  \n",
       "|------------|------------------|-------------|-------------|-------------|-------------|  \n",
       "| 07 Sep     | Patchy rain nearby | 27.7 °C     | 25.5 °C     | 83 %        | 18 kph      |  \n",
       "| 08 Sep     | Moderate rain    | 27.4 °C     | 25.1 °C     | 85 %        | 22 kph      |  \n",
       "| 09 Sep     | Patchy rain nearby | 27.5 °C     | 24.4 °C     | 82 %        | 19 kph      |  \n",
       "\n",
       "---\n",
       "\n",
       "### 🧭 Travel & Stay Insights  \n",
       "- **Clothing:** Quick-dry tees, shorts, light rain jacket, flip-flops & umbrella.  \n",
       "- **Precautions:** Streets flood quickly; avoid bikes during heavy rain; keep electronics in dry-bags.  \n",
       "- **Activities:** Skip beach shacks; opt for covered spice-plantation tours, Basilica & churches, casino boats, or café-hopping in Panjim/Assagao.  \n",
       "- **Stay Match:** Choose properties with Wi-Fi & indoor seating (Xavier’s, Homely Peaceful) since you’ll be indoors 60 % of the time.  \n",
       "\n",
       "---\n",
       "\n",
       "### 🏡 Stay Match with Weather  \n",
       "- **If Rainy/Cloudy:** Xavier’s Guest House & Homely Peaceful have cosy common areas, fast Wi-Fi, and covered balconies—perfect for sipping Kunjani coffee while it pours.  \n",
       "- **If Sunny/Clear:** Calangute Field View balcony or RoomzAway pool deck let you soak up the brief sunshine between showers.  \n",
       "- **If Mixed Weather:** Rankk Stays is cheap enough to extend your trip if flights get delayed by rain.  \n",
       "\n",
       "### 🌟 Alternative Travel Note  \n",
       "Because continuous rain is forecast, keep the last day flexible—book Airbnbs with free cancellation (Xavier’s & Homely offer this) and consider flying into Mopa (GOX) rather than Dabolim to avoid city water-logging.\n"
      ],
      "text/plain": [
       "<IPython.core.display.Markdown object>"
      ]
     },
     "metadata": {},
     "output_type": "display_data"
    }
   ],
   "source": [
    "async for step in workflow.astream({\"topic\": \"Find me the top 5 Airbnb in Goa for next 3 days within 8000 for 2 people ?\"}):\n",
    "    print(step)\n",
    "\n",
    "display(Markdown(f\"{step['tourAgent']['summary']}\\n\"))"
   ]
  },
  {
   "cell_type": "code",
   "execution_count": null,
   "id": "8ccb2c9f",
   "metadata": {},
   "outputs": [],
   "source": []
  }
 ],
 "metadata": {
  "kernelspec": {
   "display_name": "Python 3",
   "language": "python",
   "name": "python3"
  },
  "language_info": {
   "codemirror_mode": {
    "name": "ipython",
    "version": 3
   },
   "file_extension": ".py",
   "mimetype": "text/x-python",
   "name": "python",
   "nbconvert_exporter": "python",
   "pygments_lexer": "ipython3",
   "version": "3.11.13"
  }
 },
 "nbformat": 4,
 "nbformat_minor": 5
}
